{
 "cells": [
  {
   "cell_type": "code",
   "execution_count": 1,
   "id": "34bb7af0",
   "metadata": {
    "_cell_guid": "b1076dfc-b9ad-4769-8c92-a6c4dae69d19",
    "_uuid": "8f2839f25d086af736a60e9eeb907d3b93b6e0e5",
    "execution": {
     "iopub.execute_input": "2022-11-16T20:18:09.027654Z",
     "iopub.status.busy": "2022-11-16T20:18:09.027171Z",
     "iopub.status.idle": "2022-11-16T20:18:14.540403Z",
     "shell.execute_reply": "2022-11-16T20:18:14.539376Z"
    },
    "papermill": {
     "duration": 5.521393,
     "end_time": "2022-11-16T20:18:14.542896",
     "exception": false,
     "start_time": "2022-11-16T20:18:09.021503",
     "status": "completed"
    },
    "tags": []
   },
   "outputs": [],
   "source": [
    "import numpy as np \n",
    "import pandas as pd \n",
    "import matplotlib.pyplot as plt\n",
    "import cv2\n",
    "import itertools\n",
    "import glob\n",
    "from glob import glob\n",
    "from PIL import Image\n",
    "from tensorflow.keras.layers import Dense,Dropout,BatchNormalization,Conv2D,MaxPool2D,Flatten\n",
    "from tensorflow.keras.models import Sequential\n",
    "from tensorflow.keras import regularizers\n",
    "from tensorflow.keras import layers\n",
    "from tensorflow.keras.applications import EfficientNetB0\n",
    "from tensorflow.keras.layers.experimental import preprocessing\n",
    "from tensorflow.keras.models import Sequential\n",
    "from tensorflow.keras import models, layers\n",
    "from tensorflow.keras.optimizers import Adam"
   ]
  },
  {
   "cell_type": "code",
   "execution_count": 2,
   "id": "cc0bb18e",
   "metadata": {
    "execution": {
     "iopub.execute_input": "2022-11-16T20:18:14.552171Z",
     "iopub.status.busy": "2022-11-16T20:18:14.550932Z",
     "iopub.status.idle": "2022-11-16T20:22:53.542881Z",
     "shell.execute_reply": "2022-11-16T20:22:53.541633Z"
    },
    "papermill": {
     "duration": 278.999514,
     "end_time": "2022-11-16T20:22:53.545936",
     "exception": false,
     "start_time": "2022-11-16T20:18:14.546422",
     "status": "completed"
    },
    "tags": []
   },
   "outputs": [],
   "source": [
    "MR_dataset = glob('/kaggle/input/breast-histopathology-images/**/*.png', recursive=True)"
   ]
  },
  {
   "cell_type": "code",
   "execution_count": 3,
   "id": "d10d263d",
   "metadata": {
    "execution": {
     "iopub.execute_input": "2022-11-16T20:22:53.554259Z",
     "iopub.status.busy": "2022-11-16T20:22:53.553931Z",
     "iopub.status.idle": "2022-11-16T20:23:52.866803Z",
     "shell.execute_reply": "2022-11-16T20:23:52.865672Z"
    },
    "papermill": {
     "duration": 59.319498,
     "end_time": "2022-11-16T20:23:52.869310",
     "exception": false,
     "start_time": "2022-11-16T20:22:53.549812",
     "status": "completed"
    },
    "tags": []
   },
   "outputs": [],
   "source": [
    "images=[]\n",
    "labels=[]\n",
    "for i in MR_dataset[:15000]:\n",
    "    if i.endswith('.png'):\n",
    "        label=i[-5]\n",
    "        img=cv2.imread(i)\n",
    "        img=cv2.resize(img,(100,100))\n",
    "        images.append(img)\n",
    "        labels.append(label)"
   ]
  },
  {
   "cell_type": "code",
   "execution_count": 4,
   "id": "e407acdd",
   "metadata": {
    "execution": {
     "iopub.execute_input": "2022-11-16T20:23:52.878134Z",
     "iopub.status.busy": "2022-11-16T20:23:52.877118Z",
     "iopub.status.idle": "2022-11-16T20:23:54.928102Z",
     "shell.execute_reply": "2022-11-16T20:23:54.927117Z"
    },
    "papermill": {
     "duration": 2.058308,
     "end_time": "2022-11-16T20:23:54.931343",
     "exception": false,
     "start_time": "2022-11-16T20:23:52.873035",
     "status": "completed"
    },
    "tags": []
   },
   "outputs": [],
   "source": [
    "#Converts a class vector (integers) to binary class matrix\n",
    "from tensorflow.keras.utils import to_categorical\n",
    "x=np.stack(images)\n",
    "x = (x/255).astype('float32')\n",
    "y=to_categorical(labels)"
   ]
  },
  {
   "cell_type": "code",
   "execution_count": 5,
   "id": "5c1aa5fe",
   "metadata": {
    "execution": {
     "iopub.execute_input": "2022-11-16T20:23:54.942199Z",
     "iopub.status.busy": "2022-11-16T20:23:54.941734Z",
     "iopub.status.idle": "2022-11-16T20:23:56.190094Z",
     "shell.execute_reply": "2022-11-16T20:23:56.189021Z"
    },
    "papermill": {
     "duration": 1.256316,
     "end_time": "2022-11-16T20:23:56.192623",
     "exception": false,
     "start_time": "2022-11-16T20:23:54.936307",
     "status": "completed"
    },
    "tags": []
   },
   "outputs": [],
   "source": [
    "#splitting train and test\n",
    "from sklearn.model_selection import train_test_split\n",
    "x_train,x_test,y_train,y_test=train_test_split(x,y,random_state=1,test_size=0.2)"
   ]
  },
  {
   "cell_type": "markdown",
   "id": "a715efe1",
   "metadata": {
    "papermill": {
     "duration": 0.002921,
     "end_time": "2022-11-16T20:23:56.198946",
     "exception": false,
     "start_time": "2022-11-16T20:23:56.196025",
     "status": "completed"
    },
    "tags": []
   },
   "source": [
    "**The EfficientNet**\n",
    "The EfficientNet class is available in Keras to help in transfer learning with ease. I used the EfficientNet-B0 class with ImageNet weights."
   ]
  },
  {
   "cell_type": "code",
   "execution_count": 6,
   "id": "0de04f47",
   "metadata": {
    "execution": {
     "iopub.execute_input": "2022-11-16T20:23:56.207449Z",
     "iopub.status.busy": "2022-11-16T20:23:56.205999Z",
     "iopub.status.idle": "2022-11-16T20:24:02.236270Z",
     "shell.execute_reply": "2022-11-16T20:24:02.234182Z"
    },
    "papermill": {
     "duration": 6.036579,
     "end_time": "2022-11-16T20:24:02.238563",
     "exception": false,
     "start_time": "2022-11-16T20:23:56.201984",
     "status": "completed"
    },
    "tags": []
   },
   "outputs": [
    {
     "name": "stderr",
     "output_type": "stream",
     "text": [
      "2022-11-16 20:23:56.287984: I tensorflow/stream_executor/cuda/cuda_gpu_executor.cc:937] successful NUMA node read from SysFS had negative value (-1), but there must be at least one NUMA node, so returning NUMA node zero\n",
      "2022-11-16 20:23:56.441142: I tensorflow/stream_executor/cuda/cuda_gpu_executor.cc:937] successful NUMA node read from SysFS had negative value (-1), but there must be at least one NUMA node, so returning NUMA node zero\n",
      "2022-11-16 20:23:56.441902: I tensorflow/stream_executor/cuda/cuda_gpu_executor.cc:937] successful NUMA node read from SysFS had negative value (-1), but there must be at least one NUMA node, so returning NUMA node zero\n",
      "2022-11-16 20:23:56.443566: I tensorflow/core/platform/cpu_feature_guard.cc:142] This TensorFlow binary is optimized with oneAPI Deep Neural Network Library (oneDNN) to use the following CPU instructions in performance-critical operations:  AVX2 AVX512F FMA\n",
      "To enable them in other operations, rebuild TensorFlow with the appropriate compiler flags.\n",
      "2022-11-16 20:23:56.448010: I tensorflow/stream_executor/cuda/cuda_gpu_executor.cc:937] successful NUMA node read from SysFS had negative value (-1), but there must be at least one NUMA node, so returning NUMA node zero\n",
      "2022-11-16 20:23:56.448752: I tensorflow/stream_executor/cuda/cuda_gpu_executor.cc:937] successful NUMA node read from SysFS had negative value (-1), but there must be at least one NUMA node, so returning NUMA node zero\n",
      "2022-11-16 20:23:56.449461: I tensorflow/stream_executor/cuda/cuda_gpu_executor.cc:937] successful NUMA node read from SysFS had negative value (-1), but there must be at least one NUMA node, so returning NUMA node zero\n",
      "2022-11-16 20:23:58.600498: I tensorflow/stream_executor/cuda/cuda_gpu_executor.cc:937] successful NUMA node read from SysFS had negative value (-1), but there must be at least one NUMA node, so returning NUMA node zero\n",
      "2022-11-16 20:23:58.601436: I tensorflow/stream_executor/cuda/cuda_gpu_executor.cc:937] successful NUMA node read from SysFS had negative value (-1), but there must be at least one NUMA node, so returning NUMA node zero\n",
      "2022-11-16 20:23:58.602134: I tensorflow/stream_executor/cuda/cuda_gpu_executor.cc:937] successful NUMA node read from SysFS had negative value (-1), but there must be at least one NUMA node, so returning NUMA node zero\n",
      "2022-11-16 20:23:58.602715: I tensorflow/core/common_runtime/gpu/gpu_device.cc:1510] Created device /job:localhost/replica:0/task:0/device:GPU:0 with 15401 MB memory:  -> device: 0, name: Tesla P100-PCIE-16GB, pci bus id: 0000:00:04.0, compute capability: 6.0\n"
     ]
    },
    {
     "name": "stdout",
     "output_type": "stream",
     "text": [
      "Downloading data from https://storage.googleapis.com/keras-applications/efficientnetb0_notop.h5\n",
      "16711680/16705208 [==============================] - 1s 0us/step\n",
      "16719872/16705208 [==============================] - 1s 0us/step\n",
      "Model: \"sequential\"\n",
      "_________________________________________________________________\n",
      "Layer (type)                 Output Shape              Param #   \n",
      "=================================================================\n",
      "efficientnetb0 (Functional)  (None, 4, 4, 1280)        4049571   \n",
      "_________________________________________________________________\n",
      "global_average_pooling2d (Gl (None, 1280)              0         \n",
      "_________________________________________________________________\n",
      "dense (Dense)                (None, 2)                 2562      \n",
      "=================================================================\n",
      "Total params: 4,052,133\n",
      "Trainable params: 4,010,110\n",
      "Non-trainable params: 42,023\n",
      "_________________________________________________________________\n"
     ]
    }
   ],
   "source": [
    "#The EfficientNet\n",
    "model = models.Sequential()\n",
    "model.add(EfficientNetB0(include_top = False, weights = \"imagenet\",\n",
    "                            input_shape=(100,100, 3)))\n",
    "model.add(layers.GlobalAveragePooling2D())\n",
    "model.add(layers.Dense(2, activation = \"sigmoid\"))\n",
    "model.summary()"
   ]
  },
  {
   "cell_type": "code",
   "execution_count": 7,
   "id": "6127896b",
   "metadata": {
    "execution": {
     "iopub.execute_input": "2022-11-16T20:24:02.250067Z",
     "iopub.status.busy": "2022-11-16T20:24:02.248443Z",
     "iopub.status.idle": "2022-11-16T20:24:02.263500Z",
     "shell.execute_reply": "2022-11-16T20:24:02.262646Z"
    },
    "papermill": {
     "duration": 0.022384,
     "end_time": "2022-11-16T20:24:02.265487",
     "exception": false,
     "start_time": "2022-11-16T20:24:02.243103",
     "status": "completed"
    },
    "tags": []
   },
   "outputs": [],
   "source": [
    "#Compiling the CNN\n",
    "adam_opt = Adam(learning_rate=0.001,\n",
    "    beta_1=0.9,\n",
    "    beta_2=0.999,\n",
    "    epsilon=1e-07,\n",
    "    amsgrad=False)\n",
    "model.compile(optimizer=adam_opt,loss='binary_crossentropy',metrics=['accuracy'])"
   ]
  },
  {
   "cell_type": "code",
   "execution_count": 8,
   "id": "04e7e01d",
   "metadata": {
    "execution": {
     "iopub.execute_input": "2022-11-16T20:24:02.275688Z",
     "iopub.status.busy": "2022-11-16T20:24:02.274937Z",
     "iopub.status.idle": "2022-11-16T21:00:34.878663Z",
     "shell.execute_reply": "2022-11-16T21:00:34.877499Z"
    },
    "papermill": {
     "duration": 2192.611987,
     "end_time": "2022-11-16T21:00:34.881679",
     "exception": false,
     "start_time": "2022-11-16T20:24:02.269692",
     "status": "completed"
    },
    "tags": []
   },
   "outputs": [
    {
     "name": "stderr",
     "output_type": "stream",
     "text": [
      "2022-11-16 20:24:02.280599: W tensorflow/core/framework/cpu_allocator_impl.cc:80] Allocation of 1440000000 exceeds 10% of free system memory.\n",
      "2022-11-16 20:24:03.869507: W tensorflow/core/framework/cpu_allocator_impl.cc:80] Allocation of 1440000000 exceeds 10% of free system memory.\n",
      "2022-11-16 20:24:05.047358: I tensorflow/compiler/mlir/mlir_graph_optimization_pass.cc:185] None of the MLIR Optimization Passes are enabled (registered 2)\n"
     ]
    },
    {
     "name": "stdout",
     "output_type": "stream",
     "text": [
      "Epoch 1/100\n"
     ]
    },
    {
     "name": "stderr",
     "output_type": "stream",
     "text": [
      "2022-11-16 20:24:13.873341: I tensorflow/stream_executor/cuda/cuda_dnn.cc:369] Loaded cuDNN version 8005\n"
     ]
    },
    {
     "name": "stdout",
     "output_type": "stream",
     "text": [
      "188/188 [==============================] - ETA: 0s - loss: 0.3082 - accuracy: 0.8731"
     ]
    },
    {
     "name": "stderr",
     "output_type": "stream",
     "text": [
      "2022-11-16 20:24:40.677262: W tensorflow/core/framework/cpu_allocator_impl.cc:80] Allocation of 360000000 exceeds 10% of free system memory.\n",
      "2022-11-16 20:24:41.120428: W tensorflow/core/framework/cpu_allocator_impl.cc:80] Allocation of 360000000 exceeds 10% of free system memory.\n"
     ]
    },
    {
     "name": "stdout",
     "output_type": "stream",
     "text": [
      "188/188 [==============================] - 39s 128ms/step - loss: 0.3082 - accuracy: 0.8731 - val_loss: 0.6762 - val_accuracy: 0.7053\n",
      "Epoch 2/100\n",
      "188/188 [==============================] - 22s 115ms/step - loss: 0.2207 - accuracy: 0.9086 - val_loss: 0.8195 - val_accuracy: 0.7053\n",
      "Epoch 3/100\n",
      "188/188 [==============================] - 22s 115ms/step - loss: 0.1777 - accuracy: 0.9287 - val_loss: 1.6505 - val_accuracy: 0.7053\n",
      "Epoch 4/100\n",
      "188/188 [==============================] - 22s 116ms/step - loss: 0.1465 - accuracy: 0.9411 - val_loss: 1.3682 - val_accuracy: 0.7053\n",
      "Epoch 5/100\n",
      "188/188 [==============================] - 22s 115ms/step - loss: 0.1129 - accuracy: 0.9563 - val_loss: 1.2705 - val_accuracy: 0.7053\n",
      "Epoch 6/100\n",
      "188/188 [==============================] - 22s 116ms/step - loss: 0.0992 - accuracy: 0.9633 - val_loss: 0.8764 - val_accuracy: 0.7053\n",
      "Epoch 7/100\n",
      "188/188 [==============================] - 22s 116ms/step - loss: 0.0757 - accuracy: 0.9731 - val_loss: 0.6333 - val_accuracy: 0.7053\n",
      "Epoch 8/100\n",
      "188/188 [==============================] - 22s 115ms/step - loss: 0.0648 - accuracy: 0.9766 - val_loss: 3.8781 - val_accuracy: 0.7053\n",
      "Epoch 9/100\n",
      "188/188 [==============================] - 22s 115ms/step - loss: 0.0485 - accuracy: 0.9815 - val_loss: 1.8689 - val_accuracy: 0.7053\n",
      "Epoch 10/100\n",
      "188/188 [==============================] - 22s 115ms/step - loss: 0.0499 - accuracy: 0.9829 - val_loss: 1.7319 - val_accuracy: 0.7053\n",
      "Epoch 11/100\n",
      "188/188 [==============================] - 21s 114ms/step - loss: 0.0478 - accuracy: 0.9844 - val_loss: 1.2830 - val_accuracy: 0.7053\n",
      "Epoch 12/100\n",
      "188/188 [==============================] - 22s 116ms/step - loss: 0.0339 - accuracy: 0.9882 - val_loss: 1.5125 - val_accuracy: 0.7053\n",
      "Epoch 13/100\n",
      "188/188 [==============================] - 22s 115ms/step - loss: 0.0327 - accuracy: 0.9876 - val_loss: 1.9445 - val_accuracy: 0.7053\n",
      "Epoch 14/100\n",
      "188/188 [==============================] - 22s 114ms/step - loss: 0.0292 - accuracy: 0.9890 - val_loss: 1.1373 - val_accuracy: 0.7053\n",
      "Epoch 15/100\n",
      "188/188 [==============================] - 22s 115ms/step - loss: 0.0313 - accuracy: 0.9882 - val_loss: 2.9896 - val_accuracy: 0.7053\n",
      "Epoch 16/100\n",
      "188/188 [==============================] - 22s 115ms/step - loss: 0.0210 - accuracy: 0.9926 - val_loss: 3.1148 - val_accuracy: 0.7053\n",
      "Epoch 17/100\n",
      "188/188 [==============================] - 21s 114ms/step - loss: 0.0234 - accuracy: 0.9917 - val_loss: 3.0491 - val_accuracy: 0.7053\n",
      "Epoch 18/100\n",
      "188/188 [==============================] - 22s 115ms/step - loss: 0.0175 - accuracy: 0.9942 - val_loss: 2.3753 - val_accuracy: 0.7053\n",
      "Epoch 19/100\n",
      "188/188 [==============================] - 22s 115ms/step - loss: 0.0587 - accuracy: 0.9794 - val_loss: 3.2499 - val_accuracy: 0.7053\n",
      "Epoch 20/100\n",
      "188/188 [==============================] - 21s 114ms/step - loss: 0.0221 - accuracy: 0.9923 - val_loss: 1.8634 - val_accuracy: 0.7053\n",
      "Epoch 21/100\n",
      "188/188 [==============================] - 22s 116ms/step - loss: 0.0213 - accuracy: 0.9915 - val_loss: 2.0891 - val_accuracy: 0.7053\n",
      "Epoch 22/100\n",
      "188/188 [==============================] - 22s 115ms/step - loss: 0.0187 - accuracy: 0.9934 - val_loss: 4.7702 - val_accuracy: 0.7053\n",
      "Epoch 23/100\n",
      "188/188 [==============================] - 22s 115ms/step - loss: 0.0202 - accuracy: 0.9919 - val_loss: 1.6699 - val_accuracy: 0.4853\n",
      "Epoch 24/100\n",
      "188/188 [==============================] - 22s 115ms/step - loss: 0.0172 - accuracy: 0.9938 - val_loss: 3.3503 - val_accuracy: 0.7053\n",
      "Epoch 25/100\n",
      "188/188 [==============================] - 22s 116ms/step - loss: 0.0186 - accuracy: 0.9929 - val_loss: 3.6322 - val_accuracy: 0.7053\n",
      "Epoch 26/100\n",
      "188/188 [==============================] - 22s 116ms/step - loss: 0.0200 - accuracy: 0.9930 - val_loss: 2.2465 - val_accuracy: 0.7053\n",
      "Epoch 27/100\n",
      "188/188 [==============================] - 21s 114ms/step - loss: 0.0180 - accuracy: 0.9937 - val_loss: 2.7192 - val_accuracy: 0.2947\n",
      "Epoch 28/100\n",
      "188/188 [==============================] - 22s 115ms/step - loss: 0.0163 - accuracy: 0.9939 - val_loss: 4.7917 - val_accuracy: 0.7053\n",
      "Epoch 29/100\n",
      "188/188 [==============================] - 22s 115ms/step - loss: 0.0158 - accuracy: 0.9949 - val_loss: 1.4677 - val_accuracy: 0.6687\n",
      "Epoch 30/100\n",
      "188/188 [==============================] - 22s 115ms/step - loss: 0.0149 - accuracy: 0.9945 - val_loss: 1.9100 - val_accuracy: 0.7053\n",
      "Epoch 31/100\n",
      "188/188 [==============================] - 22s 115ms/step - loss: 0.0157 - accuracy: 0.9942 - val_loss: 8.4359 - val_accuracy: 0.7053\n",
      "Epoch 32/100\n",
      "188/188 [==============================] - 22s 116ms/step - loss: 0.0116 - accuracy: 0.9960 - val_loss: 0.7885 - val_accuracy: 0.5430\n",
      "Epoch 33/100\n",
      "188/188 [==============================] - 22s 115ms/step - loss: 0.0118 - accuracy: 0.9963 - val_loss: 5.0753 - val_accuracy: 0.7053\n",
      "Epoch 34/100\n",
      "188/188 [==============================] - 22s 115ms/step - loss: 0.0252 - accuracy: 0.9912 - val_loss: 1.5076 - val_accuracy: 0.7053\n",
      "Epoch 35/100\n",
      "188/188 [==============================] - 22s 115ms/step - loss: 0.0158 - accuracy: 0.9944 - val_loss: 0.9306 - val_accuracy: 0.3337\n",
      "Epoch 36/100\n",
      "188/188 [==============================] - 21s 114ms/step - loss: 0.0099 - accuracy: 0.9968 - val_loss: 1.2984 - val_accuracy: 0.7053\n",
      "Epoch 37/100\n",
      "188/188 [==============================] - 22s 115ms/step - loss: 0.0127 - accuracy: 0.9956 - val_loss: 1.8321 - val_accuracy: 0.7053\n",
      "Epoch 38/100\n",
      "188/188 [==============================] - 22s 115ms/step - loss: 0.0098 - accuracy: 0.9965 - val_loss: 1.6290 - val_accuracy: 0.7023\n",
      "Epoch 39/100\n",
      "188/188 [==============================] - 22s 115ms/step - loss: 0.0186 - accuracy: 0.9937 - val_loss: 1.5375 - val_accuracy: 0.7053\n",
      "Epoch 40/100\n",
      "188/188 [==============================] - 22s 115ms/step - loss: 0.0079 - accuracy: 0.9969 - val_loss: 3.4859 - val_accuracy: 0.7053\n",
      "Epoch 41/100\n",
      "188/188 [==============================] - 22s 115ms/step - loss: 0.0133 - accuracy: 0.9953 - val_loss: 2.4264 - val_accuracy: 0.7053\n",
      "Epoch 42/100\n",
      "188/188 [==============================] - 22s 115ms/step - loss: 0.0160 - accuracy: 0.9952 - val_loss: 0.9808 - val_accuracy: 0.2947\n",
      "Epoch 43/100\n",
      "188/188 [==============================] - 22s 116ms/step - loss: 0.0114 - accuracy: 0.9961 - val_loss: 1.9901 - val_accuracy: 0.7053\n",
      "Epoch 44/100\n",
      "188/188 [==============================] - 22s 115ms/step - loss: 0.0171 - accuracy: 0.9942 - val_loss: 1.9774 - val_accuracy: 0.7053\n",
      "Epoch 45/100\n",
      "188/188 [==============================] - 21s 114ms/step - loss: 0.0112 - accuracy: 0.9958 - val_loss: 1.0454 - val_accuracy: 0.7053\n",
      "Epoch 46/100\n",
      "188/188 [==============================] - 22s 116ms/step - loss: 0.0086 - accuracy: 0.9967 - val_loss: 3.7981 - val_accuracy: 0.7053\n",
      "Epoch 47/100\n",
      "188/188 [==============================] - 22s 116ms/step - loss: 0.0163 - accuracy: 0.9942 - val_loss: 2.6521 - val_accuracy: 0.7053\n",
      "Epoch 48/100\n",
      "188/188 [==============================] - 22s 115ms/step - loss: 0.0167 - accuracy: 0.9940 - val_loss: 6.5471 - val_accuracy: 0.7053\n",
      "Epoch 49/100\n",
      "188/188 [==============================] - 22s 115ms/step - loss: 0.0075 - accuracy: 0.9975 - val_loss: 3.5924 - val_accuracy: 0.7053\n",
      "Epoch 50/100\n",
      "188/188 [==============================] - 22s 116ms/step - loss: 0.0115 - accuracy: 0.9955 - val_loss: 2.7586 - val_accuracy: 0.7053\n",
      "Epoch 51/100\n",
      "188/188 [==============================] - 22s 115ms/step - loss: 0.0131 - accuracy: 0.9956 - val_loss: 4.1881 - val_accuracy: 0.7053\n",
      "Epoch 52/100\n",
      "188/188 [==============================] - 22s 115ms/step - loss: 0.0104 - accuracy: 0.9966 - val_loss: 2.2417 - val_accuracy: 0.7053\n",
      "Epoch 53/100\n",
      "188/188 [==============================] - 22s 115ms/step - loss: 0.0069 - accuracy: 0.9981 - val_loss: 2.7506 - val_accuracy: 0.7053\n",
      "Epoch 54/100\n",
      "188/188 [==============================] - 22s 114ms/step - loss: 0.0069 - accuracy: 0.9978 - val_loss: 2.2432 - val_accuracy: 0.7053\n",
      "Epoch 55/100\n",
      "188/188 [==============================] - 22s 116ms/step - loss: 0.0087 - accuracy: 0.9971 - val_loss: 2.9978 - val_accuracy: 0.7053\n",
      "Epoch 56/100\n",
      "188/188 [==============================] - 22s 116ms/step - loss: 0.0085 - accuracy: 0.9969 - val_loss: 1.0050 - val_accuracy: 0.7050\n",
      "Epoch 57/100\n",
      "188/188 [==============================] - 22s 115ms/step - loss: 0.0086 - accuracy: 0.9973 - val_loss: 0.7833 - val_accuracy: 0.5127\n",
      "Epoch 58/100\n",
      "188/188 [==============================] - 21s 114ms/step - loss: 0.0134 - accuracy: 0.9953 - val_loss: 1.2133 - val_accuracy: 0.7053\n",
      "Epoch 59/100\n",
      "188/188 [==============================] - 22s 115ms/step - loss: 0.0106 - accuracy: 0.9958 - val_loss: 5.3117 - val_accuracy: 0.7053\n",
      "Epoch 60/100\n",
      "188/188 [==============================] - 22s 116ms/step - loss: 0.0086 - accuracy: 0.9974 - val_loss: 4.4201 - val_accuracy: 0.7053\n",
      "Epoch 61/100\n",
      "188/188 [==============================] - 21s 113ms/step - loss: 0.0057 - accuracy: 0.9980 - val_loss: 4.5599 - val_accuracy: 0.7050\n",
      "Epoch 62/100\n",
      "188/188 [==============================] - 22s 115ms/step - loss: 0.0132 - accuracy: 0.9952 - val_loss: 6.8216 - val_accuracy: 0.7053\n",
      "Epoch 63/100\n",
      "188/188 [==============================] - 22s 116ms/step - loss: 0.0120 - accuracy: 0.9960 - val_loss: 7.6699 - val_accuracy: 0.7053\n",
      "Epoch 64/100\n",
      "188/188 [==============================] - 22s 115ms/step - loss: 0.0111 - accuracy: 0.9961 - val_loss: 3.2519 - val_accuracy: 0.7053\n",
      "Epoch 65/100\n",
      "188/188 [==============================] - 22s 116ms/step - loss: 0.0072 - accuracy: 0.9974 - val_loss: 0.7944 - val_accuracy: 0.7410\n",
      "Epoch 66/100\n",
      "188/188 [==============================] - 22s 117ms/step - loss: 0.0089 - accuracy: 0.9968 - val_loss: 2.5183 - val_accuracy: 0.7053\n",
      "Epoch 67/100\n",
      "188/188 [==============================] - 21s 114ms/step - loss: 0.0100 - accuracy: 0.9962 - val_loss: 3.5092 - val_accuracy: 0.7053\n",
      "Epoch 68/100\n",
      "188/188 [==============================] - 22s 117ms/step - loss: 0.0107 - accuracy: 0.9958 - val_loss: 6.8948 - val_accuracy: 0.7053\n",
      "Epoch 69/100\n",
      "188/188 [==============================] - 22s 117ms/step - loss: 0.0059 - accuracy: 0.9975 - val_loss: 2.6459 - val_accuracy: 0.7053\n",
      "Epoch 70/100\n",
      "188/188 [==============================] - 22s 115ms/step - loss: 0.0133 - accuracy: 0.9955 - val_loss: 6.6624 - val_accuracy: 0.7053\n",
      "Epoch 71/100\n",
      "188/188 [==============================] - 22s 114ms/step - loss: 0.0094 - accuracy: 0.9964 - val_loss: 4.8437 - val_accuracy: 0.7053\n",
      "Epoch 72/100\n",
      "188/188 [==============================] - 22s 116ms/step - loss: 0.0071 - accuracy: 0.9970 - val_loss: 2.6263 - val_accuracy: 0.7053\n",
      "Epoch 73/100\n",
      "188/188 [==============================] - 22s 116ms/step - loss: 0.0054 - accuracy: 0.9981 - val_loss: 3.3675 - val_accuracy: 0.7043\n",
      "Epoch 74/100\n",
      "188/188 [==============================] - 21s 114ms/step - loss: 0.0083 - accuracy: 0.9975 - val_loss: 5.7793 - val_accuracy: 0.7053\n",
      "Epoch 75/100\n",
      "188/188 [==============================] - 22s 116ms/step - loss: 0.0062 - accuracy: 0.9978 - val_loss: 1.9253 - val_accuracy: 0.7053\n",
      "Epoch 76/100\n",
      "188/188 [==============================] - 22s 117ms/step - loss: 0.0068 - accuracy: 0.9977 - val_loss: 1.0351 - val_accuracy: 0.4820\n",
      "Epoch 77/100\n",
      "188/188 [==============================] - 22s 116ms/step - loss: 0.0094 - accuracy: 0.9965 - val_loss: 3.0170 - val_accuracy: 0.7053\n",
      "Epoch 78/100\n",
      "188/188 [==============================] - 22s 116ms/step - loss: 0.0072 - accuracy: 0.9983 - val_loss: 2.3518 - val_accuracy: 0.7053\n",
      "Epoch 79/100\n",
      "188/188 [==============================] - 22s 115ms/step - loss: 0.0020 - accuracy: 0.9995 - val_loss: 4.1876 - val_accuracy: 0.7050\n",
      "Epoch 80/100\n",
      "188/188 [==============================] - 21s 114ms/step - loss: 0.0101 - accuracy: 0.9965 - val_loss: 3.6727 - val_accuracy: 0.7053\n",
      "Epoch 81/100\n",
      "188/188 [==============================] - 22s 116ms/step - loss: 0.0088 - accuracy: 0.9967 - val_loss: 1.2050 - val_accuracy: 0.7053\n",
      "Epoch 82/100\n",
      "188/188 [==============================] - 22s 116ms/step - loss: 0.0065 - accuracy: 0.9978 - val_loss: 3.4473 - val_accuracy: 0.7053\n",
      "Epoch 83/100\n",
      "188/188 [==============================] - 21s 114ms/step - loss: 0.0090 - accuracy: 0.9973 - val_loss: 0.9744 - val_accuracy: 0.6937\n",
      "Epoch 84/100\n",
      "188/188 [==============================] - 22s 116ms/step - loss: 0.0113 - accuracy: 0.9963 - val_loss: 2.5562 - val_accuracy: 0.7053\n",
      "Epoch 85/100\n",
      "188/188 [==============================] - 22s 117ms/step - loss: 0.0079 - accuracy: 0.9973 - val_loss: 3.8993 - val_accuracy: 0.7053\n",
      "Epoch 86/100\n",
      "188/188 [==============================] - 22s 115ms/step - loss: 0.0039 - accuracy: 0.9985 - val_loss: 3.6548 - val_accuracy: 0.7053\n",
      "Epoch 87/100\n",
      "188/188 [==============================] - 22s 116ms/step - loss: 0.0018 - accuracy: 0.9994 - val_loss: 3.1778 - val_accuracy: 0.7053\n",
      "Epoch 88/100\n",
      "188/188 [==============================] - 22s 117ms/step - loss: 0.0167 - accuracy: 0.9944 - val_loss: 5.3266 - val_accuracy: 0.7053\n",
      "Epoch 89/100\n",
      "188/188 [==============================] - 21s 114ms/step - loss: 0.0086 - accuracy: 0.9969 - val_loss: 4.9268 - val_accuracy: 0.7053\n",
      "Epoch 90/100\n",
      "188/188 [==============================] - 22s 116ms/step - loss: 0.0097 - accuracy: 0.9964 - val_loss: 0.9422 - val_accuracy: 0.6767\n",
      "Epoch 91/100\n",
      "188/188 [==============================] - 22s 117ms/step - loss: 0.0059 - accuracy: 0.9979 - val_loss: 3.4956 - val_accuracy: 0.7053\n",
      "Epoch 92/100\n",
      "188/188 [==============================] - 22s 115ms/step - loss: 0.0047 - accuracy: 0.9985 - val_loss: 2.5520 - val_accuracy: 0.7053\n",
      "Epoch 93/100\n",
      "188/188 [==============================] - 21s 114ms/step - loss: 0.0044 - accuracy: 0.9985 - val_loss: 4.0885 - val_accuracy: 0.7053\n",
      "Epoch 94/100\n",
      "188/188 [==============================] - 22s 115ms/step - loss: 0.0095 - accuracy: 0.9972 - val_loss: 6.3693 - val_accuracy: 0.7053\n",
      "Epoch 95/100\n",
      "188/188 [==============================] - 22s 115ms/step - loss: 0.0062 - accuracy: 0.9976 - val_loss: 5.5584 - val_accuracy: 0.7053\n",
      "Epoch 96/100\n",
      "188/188 [==============================] - 22s 115ms/step - loss: 0.0065 - accuracy: 0.9977 - val_loss: 0.7508 - val_accuracy: 0.6947\n",
      "Epoch 97/100\n",
      "188/188 [==============================] - 22s 117ms/step - loss: 0.0072 - accuracy: 0.9974 - val_loss: 2.3877 - val_accuracy: 0.7053\n",
      "Epoch 98/100\n",
      "188/188 [==============================] - 22s 116ms/step - loss: 0.0071 - accuracy: 0.9975 - val_loss: 1.1111 - val_accuracy: 0.7053\n",
      "Epoch 99/100\n",
      "188/188 [==============================] - 21s 114ms/step - loss: 0.0057 - accuracy: 0.9983 - val_loss: 5.5797 - val_accuracy: 0.7053\n",
      "Epoch 100/100\n",
      "188/188 [==============================] - 22s 116ms/step - loss: 0.0059 - accuracy: 0.9983 - val_loss: 4.8283 - val_accuracy: 0.6953\n"
     ]
    }
   ],
   "source": [
    "#training CNN\n",
    "history= model.fit(x_train, y_train, epochs=100, batch_size=64, validation_data=(x_test, y_test))"
   ]
  },
  {
   "cell_type": "code",
   "execution_count": 9,
   "id": "7cbaf222",
   "metadata": {
    "execution": {
     "iopub.execute_input": "2022-11-16T21:00:36.937172Z",
     "iopub.status.busy": "2022-11-16T21:00:36.936788Z",
     "iopub.status.idle": "2022-11-16T21:00:37.268988Z",
     "shell.execute_reply": "2022-11-16T21:00:37.268106Z"
    },
    "papermill": {
     "duration": 1.359241,
     "end_time": "2022-11-16T21:00:37.271081",
     "exception": false,
     "start_time": "2022-11-16T21:00:35.911840",
     "status": "completed"
    },
    "tags": []
   },
   "outputs": [
    {
     "data": {
      "image/png": "[encoded data removed]",
      "text/plain": [
       "<Figure size 1080x576 with 1 Axes>"
      ]
     },
     "metadata": {
      "needs_background": "light"
     },
     "output_type": "display_data"
    }
   ],
   "source": [
    "#checking loss\n",
    "plt.figure(figsize=(15,8))\n",
    "loss_train = history.history['loss']\n",
    "loss_val = history.history['val_loss']\n",
    "epochs = range(1,101)\n",
    "plt.plot(epochs, loss_train, 'g', label='Training loss')\n",
    "plt.plot(epochs, loss_val, 'b', label='validation loss')\n",
    "plt.legend(['train_data','test_data'])\n",
    "plt.title('loss')\n",
    "plt.show()"
   ]
  },
  {
   "cell_type": "code",
   "execution_count": 10,
   "id": "f6a8fe16",
   "metadata": {
    "execution": {
     "iopub.execute_input": "2022-11-16T21:00:39.351152Z",
     "iopub.status.busy": "2022-11-16T21:00:39.350779Z",
     "iopub.status.idle": "2022-11-16T21:00:39.578713Z",
     "shell.execute_reply": "2022-11-16T21:00:39.577841Z"
    },
    "papermill": {
     "duration": 1.266697,
     "end_time": "2022-11-16T21:00:39.580794",
     "exception": false,
     "start_time": "2022-11-16T21:00:38.314097",
     "status": "completed"
    },
    "tags": []
   },
   "outputs": [
    {
     "data": {
      "image/png": "[encoded data removed]",
      "text/plain": [
       "<Figure size 1080x576 with 1 Axes>"
      ]
     },
     "metadata": {
      "needs_background": "light"
     },
     "output_type": "display_data"
    }
   ],
   "source": [
    "#checking Accuracy\n",
    "plt.figure(figsize=(15,8))\n",
    "acc_train = history.history['accuracy']\n",
    "acc_val = history.history['val_accuracy']\n",
    "epochs = range(1,101)\n",
    "plt.plot(epochs, acc_train, 'g', label='Training acc')\n",
    "plt.plot(epochs, acc_val, 'b', label='validation acc')\n",
    "plt.legend(['train_data','test_data'])\n",
    "plt.title('accuracy')\n",
    "plt.show()"
   ]
  },
  {
   "cell_type": "code",
   "execution_count": 11,
   "id": "c6e0883d",
   "metadata": {
    "execution": {
     "iopub.execute_input": "2022-11-16T21:00:41.625782Z",
     "iopub.status.busy": "2022-11-16T21:00:41.625328Z",
     "iopub.status.idle": "2022-11-16T21:00:41.642754Z",
     "shell.execute_reply": "2022-11-16T21:00:41.641859Z"
    },
    "papermill": {
     "duration": 1.087168,
     "end_time": "2022-11-16T21:00:41.645064",
     "exception": false,
     "start_time": "2022-11-16T21:00:40.557896",
     "status": "completed"
    },
    "tags": []
   },
   "outputs": [],
   "source": [
    "Test_input = Image.open('../input/breast-histopathology-images/10288/1/10288_idx5_x1901_y301_class1.png')\n",
    "Test_input = np.array(Test_input.resize((100, 100)))\n",
    "Test_input = np.true_divide(Test_input, 255)\n",
    "Test_input = Test_input.reshape(-1,100, 100,3)"
   ]
  },
  {
   "cell_type": "code",
   "execution_count": 12,
   "id": "a88a1169",
   "metadata": {
    "execution": {
     "iopub.execute_input": "2022-11-16T21:00:43.717690Z",
     "iopub.status.busy": "2022-11-16T21:00:43.716987Z",
     "iopub.status.idle": "2022-11-16T21:00:45.019131Z",
     "shell.execute_reply": "2022-11-16T21:00:45.017982Z"
    },
    "papermill": {
     "duration": 2.338893,
     "end_time": "2022-11-16T21:00:45.021939",
     "exception": false,
     "start_time": "2022-11-16T21:00:42.683046",
     "status": "completed"
    },
    "tags": []
   },
   "outputs": [
    {
     "name": "stdout",
     "output_type": "stream",
     "text": [
      "[0]\n",
      "Tumor is benign\n"
     ]
    }
   ],
   "source": [
    "#prediction\n",
    "predict_x=model.predict(Test_input) \n",
    "classes_x=np.argmax(predict_x,axis=1)\n",
    "print(classes_x)\n",
    "classes = {'TRAIN': ['Benign','Malignant'],\n",
    "           'TEST': ['Benign','Malignant']}\n",
    "\n",
    "predicted_class = classes['TRAIN'][classes_x[0]]\n",
    "print('Tumor is {}'.format(predicted_class.lower()))"
   ]
  }
 ],
 "metadata": {
  "kernelspec": {
   "display_name": "Python 3",
   "language": "python",
   "name": "python3"
  },
  "language_info": {
   "codemirror_mode": {
    "name": "ipython",
    "version": 3
   },
   "file_extension": ".py",
   "mimetype": "text/x-python",
   "name": "python",
   "nbconvert_exporter": "python",
   "pygments_lexer": "ipython3",
   "version": "3.7.12"
  },
  "papermill": {
   "default_parameters": {},
   "duration": 2568.324987,
   "end_time": "2022-11-16T21:00:49.476561",
   "environment_variables": {},
   "exception": null,
   "input_path": "__notebook__.ipynb",
   "output_path": "__notebook__.ipynb",
   "parameters": {},
   "start_time": "2022-11-16T20:18:01.151574",
   "version": "2.3.4"
  }
 },
 "nbformat": 4,
 "nbformat_minor": 5
}
